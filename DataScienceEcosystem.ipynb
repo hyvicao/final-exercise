{
 "cells": [
  {
   "cell_type": "markdown",
   "id": "8aa59e31-9019-46f2-973e-c523f117dd6b",
   "metadata": {},
   "source": [
    "# Data Science Tools and Ecosystem"
   ]
  },
  {
   "cell_type": "markdown",
   "id": "b811f527-faa5-4cfa-9e92-56130fcc83e3",
   "metadata": {},
   "source": [
    "In this notebook, Data Science Tools and Ecosystem are summarized."
   ]
  },
  {
   "cell_type": "markdown",
   "id": "6452574d-3719-4832-978e-4734578acf5b",
   "metadata": {
    "tags": []
   },
   "source": [
    "**Objectives:**\n",
    "* List popular languages for Data Science\n",
    "* List tools for Data Science\n",
    "* List libraries for Data Science\n",
    "* Familiarize with Git and GitHub\n",
    "* Familiarize with IBM Watson Studio"
   ]
  },
  {
   "cell_type": "markdown",
   "id": "a3947cfd-50d5-4de1-a455-d7a2500937e7",
   "metadata": {},
   "source": [
    "Some of the popular languages that Data Scientist use are:\n",
    "1. Python\n",
    "2. R\n",
    "3. SQL\n",
    "4. Scala\n",
    "5. Java\n",
    "6. C++\n",
    "7. Julia"
   ]
  },
  {
   "cell_type": "markdown",
   "id": "f7c033cc-cc63-43d9-9dd4-8d3e06e1bac5",
   "metadata": {},
   "source": [
    "Some of the commonly used libraries used by Data Scientists include:\n",
    "1. Pandas\n",
    "2. NumPy\n",
    "3. Matplotlib\n",
    "4. Seaborn\n",
    "5. Scikit-learn\n",
    "6. Keras\n",
    "7. TensorFlow\n",
    "8. PyTorch"
   ]
  },
  {
   "cell_type": "markdown",
   "id": "bb100f0e-74dc-4e60-a2d2-a6655b95f449",
   "metadata": {
    "tags": []
   },
   "source": [
    "|Data Science Tools|\n",
    "|----|\n",
    "|Jupyter Notebook|\n",
    "|RStudio|\n",
    "|Visual Studio Code (VS Code)|"
   ]
  },
  {
   "cell_type": "markdown",
   "id": "f3c1cc97-bf27-46b8-8157-71f80ef4e6b5",
   "metadata": {},
   "source": [
    "### Below are a few examples of evaluating arithmetic expressions in Python."
   ]
  },
  {
   "cell_type": "code",
   "execution_count": 2,
   "id": "b2c33036-fbad-4bf1-8ae0-e6b74ca60367",
   "metadata": {
    "tags": []
   },
   "outputs": [
    {
     "data": {
      "text/plain": [
       "17"
      ]
     },
     "execution_count": 2,
     "metadata": {},
     "output_type": "execute_result"
    }
   ],
   "source": [
    "# This a simple arithmetic expression to multiply then add intergers.\n",
    "\n",
    "(3*4)+5"
   ]
  },
  {
   "cell_type": "code",
   "execution_count": 3,
   "id": "a271e4c8-0a8b-4f84-b404-7ef07f3e27e6",
   "metadata": {
    "tags": []
   },
   "outputs": [
    {
     "data": {
      "text/plain": [
       "3.3333333333333335"
      ]
     },
     "execution_count": 3,
     "metadata": {},
     "output_type": "execute_result"
    }
   ],
   "source": [
    "# This will convert 200 minutes to hours by diving by 60.\n",
    "minutes = 200\n",
    "hours = 60\n",
    "minutes/hours"
   ]
  },
  {
   "cell_type": "markdown",
   "id": "be676df4-ae1d-405e-a378-6d0ae952c1cd",
   "metadata": {},
   "source": [
    "## Author ##\n",
    "Xuan Huyen Vi Cao"
   ]
  },
  {
   "cell_type": "code",
   "execution_count": null,
   "id": "c31bad26-85b5-4828-a201-afecd951471d",
   "metadata": {},
   "outputs": [],
   "source": []
  }
 ],
 "metadata": {
  "kernelspec": {
   "display_name": "Python",
   "language": "python",
   "name": "conda-env-python-py"
  },
  "language_info": {
   "codemirror_mode": {
    "name": "ipython",
    "version": 3
   },
   "file_extension": ".py",
   "mimetype": "text/x-python",
   "name": "python",
   "nbconvert_exporter": "python",
   "pygments_lexer": "ipython3",
   "version": "3.7.12"
  }
 },
 "nbformat": 4,
 "nbformat_minor": 5
}
